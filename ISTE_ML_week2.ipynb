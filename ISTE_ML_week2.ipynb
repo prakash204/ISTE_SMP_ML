{
  "nbformat": 4,
  "nbformat_minor": 0,
  "metadata": {
    "colab": {
      "name": "ISTE_ML_week2.ipynb",
      "provenance": [],
      "authorship_tag": "ABX9TyPXWCq6PzyShaeGolTY7EKp",
      "include_colab_link": true
    },
    "kernelspec": {
      "name": "python3",
      "display_name": "Python 3"
    },
    "language_info": {
      "name": "python"
    }
  },
  "cells": [
    {
      "cell_type": "markdown",
      "metadata": {
        "id": "view-in-github",
        "colab_type": "text"
      },
      "source": [
        "<a href=\"https://colab.research.google.com/github/prakash204/ISTE_SMP_ML/blob/main/ISTE_ML_week2.ipynb\" target=\"_parent\"><img src=\"https://colab.research.google.com/assets/colab-badge.svg\" alt=\"Open In Colab\"/></a>"
      ]
    },
    {
      "cell_type": "code",
      "metadata": {
        "id": "CeJkOcLGVQRO"
      },
      "source": [
        "import numpy as np\n",
        "import matplotlib.pyplot as plt"
      ],
      "execution_count": 45,
      "outputs": []
    },
    {
      "cell_type": "markdown",
      "metadata": {
        "id": "tibYjYourwIi"
      },
      "source": [
        "Prob 1:"
      ]
    },
    {
      "cell_type": "code",
      "metadata": {
        "colab": {
          "base_uri": "https://localhost:8080/"
        },
        "id": "kvRb5ifXU98R",
        "outputId": "3b994b0c-d03e-46e5-f089-f1b50f23bcbd"
      },
      "source": [
        "x = np.array([0,10,20,30,40,50,60,70,80,90])\n",
        "y = np.array([1,3,2,5,7,8,8,9,10,12])\n",
        "print(x,y)"
      ],
      "execution_count": 46,
      "outputs": [
        {
          "output_type": "stream",
          "text": [
            "[ 0 10 20 30 40 50 60 70 80 90] [ 1  3  2  5  7  8  8  9 10 12]\n"
          ],
          "name": "stdout"
        }
      ]
    },
    {
      "cell_type": "code",
      "metadata": {
        "id": "1gQvOiJFVs-7"
      },
      "source": [
        "x_mean = np.mean(x)\n",
        "y_mean = np.mean(y)\n",
        "n=np.size(x)\n",
        "x_y = np.sum(y*x) - n*x_mean*y_mean\n",
        "x_x = np.sum(x*x) - n*x_mean*x_mean\n",
        "\n",
        "#y=mx+c\n",
        "m = x_y/x_x\n",
        "c = y_mean - m*x_mean"
      ],
      "execution_count": 47,
      "outputs": []
    },
    {
      "cell_type": "code",
      "metadata": {
        "colab": {
          "base_uri": "https://localhost:8080/"
        },
        "id": "XVov5SAtVxBm",
        "outputId": "a6e78b4a-d220-409b-8c6c-11ae5677af73"
      },
      "source": [
        "print(x_mean,y_mean,m,c)"
      ],
      "execution_count": 48,
      "outputs": [
        {
          "output_type": "stream",
          "text": [
            "45.0 6.5 0.11696969696969697 1.2363636363636363\n"
          ],
          "name": "stdout"
        }
      ]
    },
    {
      "cell_type": "code",
      "metadata": {
        "id": "sFxDgHmmXgHa"
      },
      "source": [
        "y_pred = m*x + c\n",
        "error = y_pred - x "
      ],
      "execution_count": 49,
      "outputs": []
    },
    {
      "cell_type": "code",
      "metadata": {
        "colab": {
          "base_uri": "https://localhost:8080/",
          "height": 265
        },
        "id": "BIOQ42amVl-L",
        "outputId": "5bb0b8ca-382e-4d58-94a8-5c157b696f4d"
      },
      "source": [
        "plt.scatter(x,y)\n",
        "plt.plot(x,y_pred,color='red')\n",
        "plt.grid()\n",
        "plt.show()"
      ],
      "execution_count": 50,
      "outputs": [
        {
          "output_type": "display_data",
          "data": {
            "image/png": "[encoded data removed]",
            "text/plain": [
              "<Figure size 432x288 with 1 Axes>"
            ]
          },
          "metadata": {
            "tags": [],
            "needs_background": "light"
          }
        }
      ]
    },
    {
      "cell_type": "code",
      "metadata": {
        "colab": {
          "base_uri": "https://localhost:8080/"
        },
        "id": "rVM4AqM_X5jN",
        "outputId": "9fc9cabe-f0d4-449b-ab4e-57c6604a3578"
      },
      "source": [
        "error"
      ],
      "execution_count": 51,
      "outputs": [
        {
          "output_type": "execute_result",
          "data": {
            "text/plain": [
              "array([  1.23636364,  -7.59393939, -16.42424242, -25.25454545,\n",
              "       -34.08484848, -42.91515152, -51.74545455, -60.57575758,\n",
              "       -69.40606061, -78.23636364])"
            ]
          },
          "metadata": {
            "tags": []
          },
          "execution_count": 51
        }
      ]
    },
    {
      "cell_type": "markdown",
      "metadata": {
        "id": "1AEUVKU9rzs5"
      },
      "source": [
        "Prob 2:"
      ]
    },
    {
      "cell_type": "code",
      "metadata": {
        "colab": {
          "base_uri": "https://localhost:8080/"
        },
        "id": "EC5VT1bRaq1C",
        "outputId": "84e44dd7-cba1-4b04-fc4e-502754a3b303"
      },
      "source": [
        "x2 = np.array([1,2,3,4,5,6,7,8,9,10])\n",
        "y2 = np.array([45000,50000,60000,80000,110000,150000,200000,300000,500000,1000000])\n",
        "print(x2,y2)"
      ],
      "execution_count": 52,
      "outputs": [
        {
          "output_type": "stream",
          "text": [
            "[ 1  2  3  4  5  6  7  8  9 10] [  45000   50000   60000   80000  110000  150000  200000  300000  500000\n",
            " 1000000]\n"
          ],
          "name": "stdout"
        }
      ]
    },
    {
      "cell_type": "code",
      "metadata": {
        "colab": {
          "base_uri": "https://localhost:8080/",
          "height": 276
        },
        "id": "IJwu0qeMbEdL",
        "outputId": "0e6e3737-69a4-463e-fb25-243288b3ca17"
      },
      "source": [
        "degree = 4\n",
        "x_test = np.arange(0,11,0.5)\n",
        "poly_fit = np.poly1d(np.polyfit(x2,y2,degree))\n",
        "plt.plot(x_test,poly_fit(x_test),color='red')\n",
        "plt.scatter(x2,y2)\n",
        "plt.grid()\n",
        "plt.show()"
      ],
      "execution_count": 53,
      "outputs": [
        {
          "output_type": "display_data",
          "data": {
            "image/png": "[encoded data removed]",
            "text/plain": [
              "<Figure size 432x288 with 1 Axes>"
            ]
          },
          "metadata": {
            "tags": [],
            "needs_background": "light"
          }
        }
      ]
    },
    {
      "cell_type": "markdown",
      "metadata": {
        "id": "lN8ezrRLr1ET"
      },
      "source": [
        "Prob 3:"
      ]
    },
    {
      "cell_type": "code",
      "metadata": {
        "id": "Wfy1VMeRoqFZ"
      },
      "source": [
        "import pandas as pd\n",
        "from scipy.stats import chi2_contingency"
      ],
      "execution_count": 54,
      "outputs": []
    },
    {
      "cell_type": "code",
      "metadata": {
        "id": "A2hBZOMspreY"
      },
      "source": [
        "df=pd.read_csv(\"Q3 FISH.txt\",encoding='utf-16',sep='\\t')"
      ],
      "execution_count": 55,
      "outputs": []
    },
    {
      "cell_type": "code",
      "metadata": {
        "colab": {
          "base_uri": "https://localhost:8080/",
          "height": 204
        },
        "id": "9AkpCNGvqJXs",
        "outputId": "956f73db-f328-45be-c104-9a390e84e1fe"
      },
      "source": [
        "df.head()"
      ],
      "execution_count": 56,
      "outputs": [
        {
          "output_type": "execute_result",
          "data": {
            "text/html": [
              "<div>\n",
              "<style scoped>\n",
              "    .dataframe tbody tr th:only-of-type {\n",
              "        vertical-align: middle;\n",
              "    }\n",
              "\n",
              "    .dataframe tbody tr th {\n",
              "        vertical-align: top;\n",
              "    }\n",
              "\n",
              "    .dataframe thead th {\n",
              "        text-align: right;\n",
              "    }\n",
              "</style>\n",
              "<table border=\"1\" class=\"dataframe\">\n",
              "  <thead>\n",
              "    <tr style=\"text-align: right;\">\n",
              "      <th></th>\n",
              "      <th>Species</th>\n",
              "      <th>Weight</th>\n",
              "      <th>Length1</th>\n",
              "      <th>Length2</th>\n",
              "      <th>Length3</th>\n",
              "      <th>Height</th>\n",
              "      <th>Width</th>\n",
              "    </tr>\n",
              "  </thead>\n",
              "  <tbody>\n",
              "    <tr>\n",
              "      <th>0</th>\n",
              "      <td>Bream</td>\n",
              "      <td>242.0</td>\n",
              "      <td>23.2</td>\n",
              "      <td>25.4</td>\n",
              "      <td>30.0</td>\n",
              "      <td>11.5200</td>\n",
              "      <td>4.0200</td>\n",
              "    </tr>\n",
              "    <tr>\n",
              "      <th>1</th>\n",
              "      <td>Bream</td>\n",
              "      <td>290.0</td>\n",
              "      <td>24.0</td>\n",
              "      <td>26.3</td>\n",
              "      <td>31.2</td>\n",
              "      <td>12.4800</td>\n",
              "      <td>4.3056</td>\n",
              "    </tr>\n",
              "    <tr>\n",
              "      <th>2</th>\n",
              "      <td>Bream</td>\n",
              "      <td>340.0</td>\n",
              "      <td>23.9</td>\n",
              "      <td>26.5</td>\n",
              "      <td>31.1</td>\n",
              "      <td>12.3778</td>\n",
              "      <td>4.6961</td>\n",
              "    </tr>\n",
              "    <tr>\n",
              "      <th>3</th>\n",
              "      <td>Bream</td>\n",
              "      <td>363.0</td>\n",
              "      <td>26.3</td>\n",
              "      <td>29.0</td>\n",
              "      <td>33.5</td>\n",
              "      <td>12.7300</td>\n",
              "      <td>4.4555</td>\n",
              "    </tr>\n",
              "    <tr>\n",
              "      <th>4</th>\n",
              "      <td>Bream</td>\n",
              "      <td>430.0</td>\n",
              "      <td>26.5</td>\n",
              "      <td>29.0</td>\n",
              "      <td>34.0</td>\n",
              "      <td>12.4440</td>\n",
              "      <td>5.1340</td>\n",
              "    </tr>\n",
              "  </tbody>\n",
              "</table>\n",
              "</div>"
            ],
            "text/plain": [
              "  Species  Weight  Length1  Length2  Length3   Height   Width\n",
              "0   Bream   242.0     23.2     25.4     30.0  11.5200  4.0200\n",
              "1   Bream   290.0     24.0     26.3     31.2  12.4800  4.3056\n",
              "2   Bream   340.0     23.9     26.5     31.1  12.3778  4.6961\n",
              "3   Bream   363.0     26.3     29.0     33.5  12.7300  4.4555\n",
              "4   Bream   430.0     26.5     29.0     34.0  12.4440  5.1340"
            ]
          },
          "metadata": {
            "tags": []
          },
          "execution_count": 56
        }
      ]
    },
    {
      "cell_type": "code",
      "metadata": {
        "colab": {
          "base_uri": "https://localhost:8080/"
        },
        "id": "IKHTXFzyqMVc",
        "outputId": "e1c5614c-1011-40df-adb3-3ab6a1ece739"
      },
      "source": [
        "df.info()"
      ],
      "execution_count": 57,
      "outputs": [
        {
          "output_type": "stream",
          "text": [
            "<class 'pandas.core.frame.DataFrame'>\n",
            "RangeIndex: 159 entries, 0 to 158\n",
            "Data columns (total 7 columns):\n",
            " #   Column   Non-Null Count  Dtype  \n",
            "---  ------   --------------  -----  \n",
            " 0   Species  159 non-null    object \n",
            " 1   Weight   159 non-null    float64\n",
            " 2   Length1  159 non-null    float64\n",
            " 3   Length2  159 non-null    float64\n",
            " 4   Length3  159 non-null    float64\n",
            " 5   Height   159 non-null    float64\n",
            " 6   Width    159 non-null    float64\n",
            "dtypes: float64(6), object(1)\n",
            "memory usage: 8.8+ KB\n"
          ],
          "name": "stdout"
        }
      ]
    },
    {
      "cell_type": "code",
      "metadata": {
        "colab": {
          "base_uri": "https://localhost:8080/"
        },
        "id": "IyAtgyigqPCY",
        "outputId": "07a3e605-07c1-480d-c5e3-387b6f65790d"
      },
      "source": [
        "CrosstabResult=pd.crosstab(index=df['Weight'],columns=df['Species'])\n",
        "ChiSqResult = chi2_contingency(CrosstabResult)\n",
        "print('The P-Value of the ChiSq Test for Weight is:', ChiSqResult[1],'\\n')\n",
        "\n",
        "CrosstabResult=pd.crosstab(index=df['Length1'],columns=df['Species'])\n",
        "ChiSqResult = chi2_contingency(CrosstabResult)\n",
        "print('The P-Value of the ChiSq Test for Lenght1 is:', ChiSqResult[1],'\\n')\n",
        "\n",
        "CrosstabResult=pd.crosstab(index=df['Length2'],columns=df['Species'])\n",
        "ChiSqResult = chi2_contingency(CrosstabResult)\n",
        "print('The P-Value of the ChiSq Test for Length2 is:', ChiSqResult[1],'\\n')\n",
        "\n",
        "CrosstabResult=pd.crosstab(index=df['Length3'],columns=df['Species'])\n",
        "ChiSqResult = chi2_contingency(CrosstabResult)\n",
        "print('The P-Value of the ChiSq Test for Length3 is:', ChiSqResult[1],'\\n')\n",
        "\n",
        "CrosstabResult=pd.crosstab(index=df['Height'],columns=df['Species'])\n",
        "ChiSqResult = chi2_contingency(CrosstabResult)\n",
        "print('The P-Value of the ChiSq Test for Height is:', ChiSqResult[1],'\\n')\n",
        "\n",
        "CrosstabResult=pd.crosstab(index=df['Width'],columns=df['Species'])\n",
        "ChiSqResult = chi2_contingency(CrosstabResult)\n",
        "print('The P-Value of the ChiSq Test for Width is:', ChiSqResult[1],'\\n')"
      ],
      "execution_count": 58,
      "outputs": [
        {
          "output_type": "stream",
          "text": [
            "The P-Value of the ChiSq Test for Weight is: 0.0052485829893660785 \n",
            "\n",
            "The P-Value of the ChiSq Test for Lenght1 is: 0.006621024174675606 \n",
            "\n",
            "The P-Value of the ChiSq Test for Length2 is: 0.0001578220254735054 \n",
            "\n",
            "The P-Value of the ChiSq Test for Length3 is: 0.0015098973003604226 \n",
            "\n",
            "The P-Value of the ChiSq Test for Height is: 0.19907236412205884 \n",
            "\n",
            "The P-Value of the ChiSq Test for Width is: 0.17695423762797555 \n",
            "\n"
          ],
          "name": "stdout"
        }
      ]
    },
    {
      "cell_type": "markdown",
      "metadata": {
        "id": "ljL4KNt-q1H-"
      },
      "source": [
        "Here You can see the Chisq of different features in the dataset.I would say The output Species depend upon multiple features/inputs ,So we can follow multi-variable regeression.But when it comes to know which are the depending inputs to get the output then we should consider Height , Width of the fish. (as Chisq is >0.05).If the accuracy is not as expected we need to allow other features as inputs or give more tuples/rows to the datasets for training."
      ]
    },
    {
      "cell_type": "code",
      "metadata": {
        "id": "smDXUVHfrA77"
      },
      "source": [
        ""
      ],
      "execution_count": 58,
      "outputs": []
    }
  ]
}