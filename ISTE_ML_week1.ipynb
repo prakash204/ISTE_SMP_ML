{
  "nbformat": 4,
  "nbformat_minor": 0,
  "metadata": {
    "colab": {
      "name": "ISTE_ML_week1.ipynb",
      "provenance": [],
      "collapsed_sections": []
    },
    "kernelspec": {
      "name": "python3",
      "display_name": "Python 3"
    },
    "language_info": {
      "name": "python"
    }
  },
  "cells": [
    {
      "cell_type": "code",
      "metadata": {
        "colab": {
          "base_uri": "https://localhost:8080/"
        },
        "id": "PPzEMo9hGbOT",
        "outputId": "80a9153f-29e9-4b7b-dbab-be09f47e4b21"
      },
      "source": [
        "pip install category_encoders"
      ],
      "execution_count": 767,
      "outputs": [
        {
          "output_type": "stream",
          "text": [
            "Requirement already satisfied: category_encoders in /usr/local/lib/python3.7/dist-packages (2.2.2)\n",
            "Requirement already satisfied: patsy>=0.5.1 in /usr/local/lib/python3.7/dist-packages (from category_encoders) (0.5.1)\n",
            "Requirement already satisfied: statsmodels>=0.9.0 in /usr/local/lib/python3.7/dist-packages (from category_encoders) (0.10.2)\n",
            "Requirement already satisfied: scikit-learn>=0.20.0 in /usr/local/lib/python3.7/dist-packages (from category_encoders) (0.22.2.post1)\n",
            "Requirement already satisfied: numpy>=1.14.0 in /usr/local/lib/python3.7/dist-packages (from category_encoders) (1.19.5)\n",
            "Requirement already satisfied: scipy>=1.0.0 in /usr/local/lib/python3.7/dist-packages (from category_encoders) (1.4.1)\n",
            "Requirement already satisfied: pandas>=0.21.1 in /usr/local/lib/python3.7/dist-packages (from category_encoders) (1.1.5)\n",
            "Requirement already satisfied: six in /usr/local/lib/python3.7/dist-packages (from patsy>=0.5.1->category_encoders) (1.15.0)\n",
            "Requirement already satisfied: joblib>=0.11 in /usr/local/lib/python3.7/dist-packages (from scikit-learn>=0.20.0->category_encoders) (1.0.1)\n",
            "Requirement already satisfied: pytz>=2017.2 in /usr/local/lib/python3.7/dist-packages (from pandas>=0.21.1->category_encoders) (2018.9)\n",
            "Requirement already satisfied: python-dateutil>=2.7.3 in /usr/local/lib/python3.7/dist-packages (from pandas>=0.21.1->category_encoders) (2.8.1)\n"
          ],
          "name": "stdout"
        }
      ]
    },
    {
      "cell_type": "code",
      "metadata": {
        "id": "o_6S71rjZmle"
      },
      "source": [
        "import pandas as pd\n",
        "from scipy.stats import chi2_contingency\n",
        "import numpy as np\n",
        "from google.colab import files\n",
        "import missingno as msno\n",
        "import category_encoders as ce\n",
        "from sklearn.preprocessing import StandardScaler,MinMaxScaler"
      ],
      "execution_count": 768,
      "outputs": []
    },
    {
      "cell_type": "code",
      "metadata": {
        "id": "FaPO88-HZ3cL"
      },
      "source": [
        "df = pd.read_csv('Titanic_ISTE.csv')\n",
        "safe_df = df"
      ],
      "execution_count": 769,
      "outputs": []
    },
    {
      "cell_type": "code",
      "metadata": {
        "colab": {
          "base_uri": "https://localhost:8080/",
          "height": 513
        },
        "id": "xam6JT9xaDKX",
        "outputId": "00fce14b-bbd2-4133-cbd9-8ff104ae09c2"
      },
      "source": [
        "df.head()"
      ],
      "execution_count": 770,
      "outputs": [
        {
          "output_type": "execute_result",
          "data": {
            "text/html": [
              "<div>\n",
              "<style scoped>\n",
              "    .dataframe tbody tr th:only-of-type {\n",
              "        vertical-align: middle;\n",
              "    }\n",
              "\n",
              "    .dataframe tbody tr th {\n",
              "        vertical-align: top;\n",
              "    }\n",
              "\n",
              "    .dataframe thead th {\n",
              "        text-align: right;\n",
              "    }\n",
              "</style>\n",
              "<table border=\"1\" class=\"dataframe\">\n",
              "  <thead>\n",
              "    <tr style=\"text-align: right;\">\n",
              "      <th></th>\n",
              "      <th>PassengerId</th>\n",
              "      <th>Survived</th>\n",
              "      <th>Pclass</th>\n",
              "      <th>Name</th>\n",
              "      <th>Sex</th>\n",
              "      <th>Age</th>\n",
              "      <th>SibSp</th>\n",
              "      <th>Parch</th>\n",
              "      <th>Ticket</th>\n",
              "      <th>Fare</th>\n",
              "      <th>Cabin</th>\n",
              "      <th>Embarked</th>\n",
              "      <th>Unnamed: 12</th>\n",
              "      <th>Unnamed: 13</th>\n",
              "      <th>Unnamed: 14</th>\n",
              "      <th>Unnamed: 15</th>\n",
              "      <th>Unnamed: 16</th>\n",
              "      <th>Unnamed: 17</th>\n",
              "    </tr>\n",
              "  </thead>\n",
              "  <tbody>\n",
              "    <tr>\n",
              "      <th>0</th>\n",
              "      <td>1</td>\n",
              "      <td>0.0</td>\n",
              "      <td>3.0</td>\n",
              "      <td>Braund, Mr. Owen Harris</td>\n",
              "      <td>male</td>\n",
              "      <td>22.0</td>\n",
              "      <td>1.0</td>\n",
              "      <td>0.0</td>\n",
              "      <td>A/5 21171</td>\n",
              "      <td>7.2500</td>\n",
              "      <td>NaN</td>\n",
              "      <td>S</td>\n",
              "      <td>NaN</td>\n",
              "      <td>NaN</td>\n",
              "      <td>NaN</td>\n",
              "      <td>NaN</td>\n",
              "      <td>NaN</td>\n",
              "      <td>NaN</td>\n",
              "    </tr>\n",
              "    <tr>\n",
              "      <th>1</th>\n",
              "      <td>2</td>\n",
              "      <td>1.0</td>\n",
              "      <td>1.0</td>\n",
              "      <td>Cumings, Mrs. John Bradley (Florence Briggs Th...</td>\n",
              "      <td>female</td>\n",
              "      <td>38.0</td>\n",
              "      <td>1.0</td>\n",
              "      <td>0.0</td>\n",
              "      <td>PC 17599</td>\n",
              "      <td>71.2833</td>\n",
              "      <td>C85</td>\n",
              "      <td>C</td>\n",
              "      <td>NaN</td>\n",
              "      <td>NaN</td>\n",
              "      <td>NaN</td>\n",
              "      <td>NaN</td>\n",
              "      <td>NaN</td>\n",
              "      <td>NaN</td>\n",
              "    </tr>\n",
              "    <tr>\n",
              "      <th>2</th>\n",
              "      <td>3</td>\n",
              "      <td>1.0</td>\n",
              "      <td>3.0</td>\n",
              "      <td>Heikkinen, Miss. Laina</td>\n",
              "      <td>female</td>\n",
              "      <td>26.0</td>\n",
              "      <td>0.0</td>\n",
              "      <td>0.0</td>\n",
              "      <td>STON/O2. 3101282</td>\n",
              "      <td>7.9250</td>\n",
              "      <td>NaN</td>\n",
              "      <td>S</td>\n",
              "      <td>NaN</td>\n",
              "      <td>NaN</td>\n",
              "      <td>NaN</td>\n",
              "      <td>NaN</td>\n",
              "      <td>NaN</td>\n",
              "      <td>NaN</td>\n",
              "    </tr>\n",
              "    <tr>\n",
              "      <th>3</th>\n",
              "      <td>4</td>\n",
              "      <td>1.0</td>\n",
              "      <td>1.0</td>\n",
              "      <td>Futrelle, Mrs. Jacques Heath (Lily May Peel)</td>\n",
              "      <td>female</td>\n",
              "      <td>35.0</td>\n",
              "      <td>1.0</td>\n",
              "      <td>0.0</td>\n",
              "      <td>113803</td>\n",
              "      <td>53.1000</td>\n",
              "      <td>C123</td>\n",
              "      <td>S</td>\n",
              "      <td>NaN</td>\n",
              "      <td>NaN</td>\n",
              "      <td>NaN</td>\n",
              "      <td>NaN</td>\n",
              "      <td>NaN</td>\n",
              "      <td>NaN</td>\n",
              "    </tr>\n",
              "    <tr>\n",
              "      <th>4</th>\n",
              "      <td>5</td>\n",
              "      <td>0.0</td>\n",
              "      <td>3.0</td>\n",
              "      <td>Allen, Mr. William Henry</td>\n",
              "      <td>male</td>\n",
              "      <td>35.0</td>\n",
              "      <td>0.0</td>\n",
              "      <td>0.0</td>\n",
              "      <td>373450</td>\n",
              "      <td>8.0500</td>\n",
              "      <td>NaN</td>\n",
              "      <td>S</td>\n",
              "      <td>NaN</td>\n",
              "      <td>NaN</td>\n",
              "      <td>NaN</td>\n",
              "      <td>NaN</td>\n",
              "      <td>NaN</td>\n",
              "      <td>NaN</td>\n",
              "    </tr>\n",
              "  </tbody>\n",
              "</table>\n",
              "</div>"
            ],
            "text/plain": [
              "   PassengerId  Survived  Pclass  ... Unnamed: 15 Unnamed: 16  Unnamed: 17\n",
              "0            1       0.0     3.0  ...         NaN         NaN          NaN\n",
              "1            2       1.0     1.0  ...         NaN         NaN          NaN\n",
              "2            3       1.0     3.0  ...         NaN         NaN          NaN\n",
              "3            4       1.0     1.0  ...         NaN         NaN          NaN\n",
              "4            5       0.0     3.0  ...         NaN         NaN          NaN\n",
              "\n",
              "[5 rows x 18 columns]"
            ]
          },
          "metadata": {
            "tags": []
          },
          "execution_count": 770
        }
      ]
    },
    {
      "cell_type": "markdown",
      "metadata": {
        "id": "E38GCdq2XyNo"
      },
      "source": [
        "Task 1:"
      ]
    },
    {
      "cell_type": "code",
      "metadata": {
        "colab": {
          "base_uri": "https://localhost:8080/"
        },
        "id": "ZZ3ULKjGgkN6",
        "outputId": "a75051b8-4940-4086-8a13-0e98df113792"
      },
      "source": [
        "a=[]\n",
        "\n",
        "#chi square is also a measure of correlation  \n",
        "CrosstabResult=pd.crosstab(index=df['Pclass'],columns=df['Survived'])\n",
        "ChiSqResult = chi2_contingency(CrosstabResult)\n",
        "print('The P-Value of the ChiSq Test for Pclass is:', ChiSqResult[1],'\\n')\n",
        "if ChiSqResult[1]>0.05:\n",
        "  a.append('Pclass')\n",
        "\n",
        "CrosstabResult=pd.crosstab(index=df['Sex'],columns=df['Survived'])\n",
        "ChiSqResult = chi2_contingency(CrosstabResult)\n",
        "print('The P-Value of the ChiSq Test for Sex is:', ChiSqResult[1],'\\n')\n",
        "if ChiSqResult[1]>0.05:\n",
        "  a.append('Sex')\n",
        "\n",
        "CrosstabResult=pd.crosstab(index=df['Age'],columns=df['Survived'])\n",
        "ChiSqResult = chi2_contingency(CrosstabResult)\n",
        "print('The P-Value of the ChiSq Test for Age is:', ChiSqResult[1],'\\n')\n",
        "if ChiSqResult[1]>0.05:\n",
        "  a.append('Age')\n",
        "  \n",
        "CrosstabResult=pd.crosstab(index=df['SibSp'],columns=df['Survived'])\n",
        "ChiSqResult = chi2_contingency(CrosstabResult)\n",
        "print('The P-Value of the ChiSq Test for SibSp is:', ChiSqResult[1],'\\n')\n",
        "if ChiSqResult[1]>0.05:\n",
        "  a.append('SibSp')\n",
        "  \n",
        "CrosstabResult=pd.crosstab(index=df['Parch'],columns=df['Survived'])\n",
        "ChiSqResult = chi2_contingency(CrosstabResult)\n",
        "print('The P-Value of the ChiSq Test for Parch is:', ChiSqResult[1],'\\n')\n",
        "if ChiSqResult[1]>0.05:\n",
        "  a.append('Parch')\n",
        "  \n",
        "CrosstabResult=pd.crosstab(index=df['Ticket'],columns=df['Survived'])\n",
        "ChiSqResult = chi2_contingency(CrosstabResult)\n",
        "print('The P-Value of the ChiSq Test for Ticket is:', ChiSqResult[1],'\\n')\n",
        "if ChiSqResult[1]>0.05:\n",
        "  a.append('Ticket')\n",
        "  \n",
        "CrosstabResult=pd.crosstab(index=df['Fare'],columns=df['Survived'])\n",
        "ChiSqResult = chi2_contingency(CrosstabResult)\n",
        "print('The P-Value of the ChiSq Test for Fare is:', ChiSqResult[1],'\\n')\n",
        "if ChiSqResult[1]>0.05:\n",
        "  a.append('Fare')\n",
        "  \n",
        "CrosstabResult=pd.crosstab(index=df['Cabin'],columns=df['Survived'])\n",
        "ChiSqResult = chi2_contingency(CrosstabResult)\n",
        "print('The P-Value of the ChiSq Test for Cabin is:', ChiSqResult[1],'\\n')\n",
        "if ChiSqResult[1]>0.05:\n",
        "  a.append('Cabin')\n",
        "  \n",
        "CrosstabResult=pd.crosstab(index=df['Embarked'],columns=df['Survived'])\n",
        "ChiSqResult = chi2_contingency(CrosstabResult)\n",
        "print('The P-Value of the ChiSq Test for Embarked is:', ChiSqResult[1],'\\n')\n",
        "if ChiSqResult[1]>0.05:\n",
        "  a.append('Embarked')\n",
        "\n",
        "print(a,' has Chisq > 0.05') "
      ],
      "execution_count": 771,
      "outputs": [
        {
          "output_type": "stream",
          "text": [
            "The P-Value of the ChiSq Test for Pclass is: 2.2842186475599623e-23 \n",
            "\n",
            "The P-Value of the ChiSq Test for Sex is: 3.487741570629795e-57 \n",
            "\n",
            "The P-Value of the ChiSq Test for Age is: 0.08371525224381583 \n",
            "\n",
            "The P-Value of the ChiSq Test for SibSp is: 1.2168985272205909e-06 \n",
            "\n",
            "The P-Value of the ChiSq Test for Parch is: 0.00011516516080127263 \n",
            "\n",
            "The P-Value of the ChiSq Test for Ticket is: 0.010787239234576276 \n",
            "\n",
            "The P-Value of the ChiSq Test for Fare is: 8.966050015695972e-12 \n",
            "\n",
            "The P-Value of the ChiSq Test for Cabin is: 0.18357354976388165 \n",
            "\n",
            "The P-Value of the ChiSq Test for Embarked is: 2.258211542054125e-06 \n",
            "\n",
            "['Age', 'Cabin']  has Chisq > 0.05\n"
          ],
          "name": "stdout"
        }
      ]
    },
    {
      "cell_type": "code",
      "metadata": {
        "id": "5PHfuita0ZcA"
      },
      "source": [
        "#As sex is in male & female not in numerical values...\n",
        "sex = df['Sex']\n",
        "b1 = [1.0 if sex[i]=='male' else 0.0 for i in range(891)]\n",
        "c1 = pd.DataFrame(b1,columns=['Sex'])\n",
        "embarked = df['Embarked']\n",
        "b2 = [1.0 if embarked[i]=='C' else 2.0 if embarked[i]=='Q' else 3.0 for i in range(891)]\n",
        "c2 = pd.DataFrame(b2,columns=['Embarked'])"
      ],
      "execution_count": 772,
      "outputs": []
    },
    {
      "cell_type": "code",
      "metadata": {
        "colab": {
          "base_uri": "https://localhost:8080/"
        },
        "id": "ecVmj6-qnqiE",
        "outputId": "b0f8d14d-66ec-48df-ff78-669ee5c47cc5"
      },
      "source": [
        "d=[]\n",
        "\n",
        "column_1=df[\"Pclass\"]\n",
        "#choose output as the other column\n",
        "column_2=df[\"Survived\"]\n",
        "correlation = column_2. corr(column_1) #calculate correlation between `column_1` and `column_2`\n",
        "print(\"correlation coefficient for Pclass :\",correlation)\n",
        "\n",
        "column_1=c1['Sex']\n",
        "correlation = column_2. corr(column_1) #calculate correlation between `column_1` and `column_2`\n",
        "print(\"correlation coefficient for Sex:\",correlation)\n",
        "\n",
        "column_1=df[\"Age\"]\n",
        "correlation = column_2. corr(column_1) #calculate correlation between `column_1` and `column_2`\n",
        "print(\"correlation coefficient for Age:\",correlation)\n",
        "\n",
        "column_1=df[\"SibSp\"]\n",
        "correlation = column_2. corr(column_1) #calculate correlation between `column_1` and `column_2`\n",
        "print(\"correlation coefficient for SibSp:\",correlation)\n",
        "\n",
        "column_1=df[\"Parch\"]\n",
        "correlation = column_2. corr(column_1) #calculate correlation between `column_1` and `column_2`\n",
        "print(\"correlation coefficient for Parch:\",correlation)\n",
        "\n",
        "'''column_1=df[\"Ticket\"]\n",
        "correlation = column_2. corr(column_1) #calculate correlation between `column_1` and `column_2`\n",
        "print(correlation)'''\n",
        "\n",
        "column_1=df[\"Fare\"]\n",
        "correlation = column_2. corr(column_1) #calculate correlation between `column_1` and `column_2`\n",
        "print(\"correlation coefficient for Fare:\",correlation)\n",
        "\n",
        "column_1=c2[\"Embarked\"]\n",
        "correlation = column_2. corr(column_1) #calculate correlation between `column_1` and `column_2`\n",
        "print(\"correlation coefficient for Embarked:\",correlation)"
      ],
      "execution_count": 773,
      "outputs": [
        {
          "output_type": "stream",
          "text": [
            "correlation coefficient for Pclass : -0.3412361199775701\n",
            "correlation coefficient for Sex: -0.5263840180335461\n",
            "correlation coefficient for Age: -0.07885930007180811\n",
            "correlation coefficient for SibSp: -0.03476026217335815\n",
            "correlation coefficient for Parch: 0.08177609101276331\n",
            "correlation coefficient for Fare: 0.2590131520302958\n",
            "correlation coefficient for Embarked: -0.166427394002883\n"
          ],
          "name": "stdout"
        }
      ]
    },
    {
      "cell_type": "code",
      "metadata": {
        "colab": {
          "base_uri": "https://localhost:8080/",
          "height": 591
        },
        "id": "r5Li5qq_vCPm",
        "outputId": "3657b002-3639-40ca-af4c-f1dc490c4454"
      },
      "source": [
        "df.corr()"
      ],
      "execution_count": 774,
      "outputs": [
        {
          "output_type": "execute_result",
          "data": {
            "text/html": [
              "<div>\n",
              "<style scoped>\n",
              "    .dataframe tbody tr th:only-of-type {\n",
              "        vertical-align: middle;\n",
              "    }\n",
              "\n",
              "    .dataframe tbody tr th {\n",
              "        vertical-align: top;\n",
              "    }\n",
              "\n",
              "    .dataframe thead th {\n",
              "        text-align: right;\n",
              "    }\n",
              "</style>\n",
              "<table border=\"1\" class=\"dataframe\">\n",
              "  <thead>\n",
              "    <tr style=\"text-align: right;\">\n",
              "      <th></th>\n",
              "      <th>PassengerId</th>\n",
              "      <th>Survived</th>\n",
              "      <th>Pclass</th>\n",
              "      <th>Age</th>\n",
              "      <th>SibSp</th>\n",
              "      <th>Parch</th>\n",
              "      <th>Fare</th>\n",
              "      <th>Unnamed: 12</th>\n",
              "      <th>Unnamed: 13</th>\n",
              "      <th>Unnamed: 14</th>\n",
              "      <th>Unnamed: 15</th>\n",
              "      <th>Unnamed: 16</th>\n",
              "      <th>Unnamed: 17</th>\n",
              "    </tr>\n",
              "  </thead>\n",
              "  <tbody>\n",
              "    <tr>\n",
              "      <th>PassengerId</th>\n",
              "      <td>1.000000</td>\n",
              "      <td>-0.004786</td>\n",
              "      <td>-0.036361</td>\n",
              "      <td>0.035162</td>\n",
              "      <td>-0.062361</td>\n",
              "      <td>-0.001994</td>\n",
              "      <td>0.012658</td>\n",
              "      <td>NaN</td>\n",
              "      <td>NaN</td>\n",
              "      <td>NaN</td>\n",
              "      <td>NaN</td>\n",
              "      <td>NaN</td>\n",
              "      <td>NaN</td>\n",
              "    </tr>\n",
              "    <tr>\n",
              "      <th>Survived</th>\n",
              "      <td>-0.004786</td>\n",
              "      <td>1.000000</td>\n",
              "      <td>-0.341236</td>\n",
              "      <td>-0.078859</td>\n",
              "      <td>-0.034760</td>\n",
              "      <td>0.081776</td>\n",
              "      <td>0.259013</td>\n",
              "      <td>NaN</td>\n",
              "      <td>NaN</td>\n",
              "      <td>NaN</td>\n",
              "      <td>NaN</td>\n",
              "      <td>NaN</td>\n",
              "      <td>NaN</td>\n",
              "    </tr>\n",
              "    <tr>\n",
              "      <th>Pclass</th>\n",
              "      <td>-0.036361</td>\n",
              "      <td>-0.341236</td>\n",
              "      <td>1.000000</td>\n",
              "      <td>-0.369655</td>\n",
              "      <td>0.080564</td>\n",
              "      <td>0.018643</td>\n",
              "      <td>-0.549336</td>\n",
              "      <td>NaN</td>\n",
              "      <td>NaN</td>\n",
              "      <td>NaN</td>\n",
              "      <td>NaN</td>\n",
              "      <td>NaN</td>\n",
              "      <td>NaN</td>\n",
              "    </tr>\n",
              "    <tr>\n",
              "      <th>Age</th>\n",
              "      <td>0.035162</td>\n",
              "      <td>-0.078859</td>\n",
              "      <td>-0.369655</td>\n",
              "      <td>1.000000</td>\n",
              "      <td>-0.307557</td>\n",
              "      <td>-0.191981</td>\n",
              "      <td>0.095152</td>\n",
              "      <td>NaN</td>\n",
              "      <td>NaN</td>\n",
              "      <td>NaN</td>\n",
              "      <td>NaN</td>\n",
              "      <td>NaN</td>\n",
              "      <td>NaN</td>\n",
              "    </tr>\n",
              "    <tr>\n",
              "      <th>SibSp</th>\n",
              "      <td>-0.062361</td>\n",
              "      <td>-0.034760</td>\n",
              "      <td>0.080564</td>\n",
              "      <td>-0.307557</td>\n",
              "      <td>1.000000</td>\n",
              "      <td>0.410866</td>\n",
              "      <td>0.159797</td>\n",
              "      <td>NaN</td>\n",
              "      <td>NaN</td>\n",
              "      <td>NaN</td>\n",
              "      <td>NaN</td>\n",
              "      <td>NaN</td>\n",
              "      <td>NaN</td>\n",
              "    </tr>\n",
              "    <tr>\n",
              "      <th>Parch</th>\n",
              "      <td>-0.001994</td>\n",
              "      <td>0.081776</td>\n",
              "      <td>0.018643</td>\n",
              "      <td>-0.191981</td>\n",
              "      <td>0.410866</td>\n",
              "      <td>1.000000</td>\n",
              "      <td>0.216438</td>\n",
              "      <td>NaN</td>\n",
              "      <td>NaN</td>\n",
              "      <td>NaN</td>\n",
              "      <td>NaN</td>\n",
              "      <td>NaN</td>\n",
              "      <td>NaN</td>\n",
              "    </tr>\n",
              "    <tr>\n",
              "      <th>Fare</th>\n",
              "      <td>0.012658</td>\n",
              "      <td>0.259013</td>\n",
              "      <td>-0.549336</td>\n",
              "      <td>0.095152</td>\n",
              "      <td>0.159797</td>\n",
              "      <td>0.216438</td>\n",
              "      <td>1.000000</td>\n",
              "      <td>NaN</td>\n",
              "      <td>NaN</td>\n",
              "      <td>NaN</td>\n",
              "      <td>NaN</td>\n",
              "      <td>NaN</td>\n",
              "      <td>NaN</td>\n",
              "    </tr>\n",
              "    <tr>\n",
              "      <th>Unnamed: 12</th>\n",
              "      <td>NaN</td>\n",
              "      <td>NaN</td>\n",
              "      <td>NaN</td>\n",
              "      <td>NaN</td>\n",
              "      <td>NaN</td>\n",
              "      <td>NaN</td>\n",
              "      <td>NaN</td>\n",
              "      <td>NaN</td>\n",
              "      <td>NaN</td>\n",
              "      <td>NaN</td>\n",
              "      <td>NaN</td>\n",
              "      <td>NaN</td>\n",
              "      <td>NaN</td>\n",
              "    </tr>\n",
              "    <tr>\n",
              "      <th>Unnamed: 13</th>\n",
              "      <td>NaN</td>\n",
              "      <td>NaN</td>\n",
              "      <td>NaN</td>\n",
              "      <td>NaN</td>\n",
              "      <td>NaN</td>\n",
              "      <td>NaN</td>\n",
              "      <td>NaN</td>\n",
              "      <td>NaN</td>\n",
              "      <td>NaN</td>\n",
              "      <td>NaN</td>\n",
              "      <td>NaN</td>\n",
              "      <td>NaN</td>\n",
              "      <td>NaN</td>\n",
              "    </tr>\n",
              "    <tr>\n",
              "      <th>Unnamed: 14</th>\n",
              "      <td>NaN</td>\n",
              "      <td>NaN</td>\n",
              "      <td>NaN</td>\n",
              "      <td>NaN</td>\n",
              "      <td>NaN</td>\n",
              "      <td>NaN</td>\n",
              "      <td>NaN</td>\n",
              "      <td>NaN</td>\n",
              "      <td>NaN</td>\n",
              "      <td>NaN</td>\n",
              "      <td>NaN</td>\n",
              "      <td>NaN</td>\n",
              "      <td>NaN</td>\n",
              "    </tr>\n",
              "    <tr>\n",
              "      <th>Unnamed: 15</th>\n",
              "      <td>NaN</td>\n",
              "      <td>NaN</td>\n",
              "      <td>NaN</td>\n",
              "      <td>NaN</td>\n",
              "      <td>NaN</td>\n",
              "      <td>NaN</td>\n",
              "      <td>NaN</td>\n",
              "      <td>NaN</td>\n",
              "      <td>NaN</td>\n",
              "      <td>NaN</td>\n",
              "      <td>NaN</td>\n",
              "      <td>NaN</td>\n",
              "      <td>NaN</td>\n",
              "    </tr>\n",
              "    <tr>\n",
              "      <th>Unnamed: 16</th>\n",
              "      <td>NaN</td>\n",
              "      <td>NaN</td>\n",
              "      <td>NaN</td>\n",
              "      <td>NaN</td>\n",
              "      <td>NaN</td>\n",
              "      <td>NaN</td>\n",
              "      <td>NaN</td>\n",
              "      <td>NaN</td>\n",
              "      <td>NaN</td>\n",
              "      <td>NaN</td>\n",
              "      <td>NaN</td>\n",
              "      <td>NaN</td>\n",
              "      <td>NaN</td>\n",
              "    </tr>\n",
              "    <tr>\n",
              "      <th>Unnamed: 17</th>\n",
              "      <td>NaN</td>\n",
              "      <td>NaN</td>\n",
              "      <td>NaN</td>\n",
              "      <td>NaN</td>\n",
              "      <td>NaN</td>\n",
              "      <td>NaN</td>\n",
              "      <td>NaN</td>\n",
              "      <td>NaN</td>\n",
              "      <td>NaN</td>\n",
              "      <td>NaN</td>\n",
              "      <td>NaN</td>\n",
              "      <td>NaN</td>\n",
              "      <td>NaN</td>\n",
              "    </tr>\n",
              "  </tbody>\n",
              "</table>\n",
              "</div>"
            ],
            "text/plain": [
              "             PassengerId  Survived  ...  Unnamed: 16  Unnamed: 17\n",
              "PassengerId     1.000000 -0.004786  ...          NaN          NaN\n",
              "Survived       -0.004786  1.000000  ...          NaN          NaN\n",
              "Pclass         -0.036361 -0.341236  ...          NaN          NaN\n",
              "Age             0.035162 -0.078859  ...          NaN          NaN\n",
              "SibSp          -0.062361 -0.034760  ...          NaN          NaN\n",
              "Parch          -0.001994  0.081776  ...          NaN          NaN\n",
              "Fare            0.012658  0.259013  ...          NaN          NaN\n",
              "Unnamed: 12          NaN       NaN  ...          NaN          NaN\n",
              "Unnamed: 13          NaN       NaN  ...          NaN          NaN\n",
              "Unnamed: 14          NaN       NaN  ...          NaN          NaN\n",
              "Unnamed: 15          NaN       NaN  ...          NaN          NaN\n",
              "Unnamed: 16          NaN       NaN  ...          NaN          NaN\n",
              "Unnamed: 17          NaN       NaN  ...          NaN          NaN\n",
              "\n",
              "[13 rows x 13 columns]"
            ]
          },
          "metadata": {
            "tags": []
          },
          "execution_count": 774
        }
      ]
    },
    {
      "cell_type": "markdown",
      "metadata": {
        "id": "nBp_sQOjX3WH"
      },
      "source": [
        "Task 2:"
      ]
    },
    {
      "cell_type": "code",
      "metadata": {
        "colab": {
          "base_uri": "https://localhost:8080/",
          "height": 429
        },
        "id": "ZrENuyvJbtYm",
        "outputId": "dc3fad9c-16d3-418f-b162-5705c4ae7363"
      },
      "source": [
        "msno.matrix(df)"
      ],
      "execution_count": 775,
      "outputs": [
        {
          "output_type": "execute_result",
          "data": {
            "text/plain": [
              "<matplotlib.axes._subplots.AxesSubplot at 0x7f53561a4b10>"
            ]
          },
          "metadata": {
            "tags": []
          },
          "execution_count": 775
        },
        {
          "output_type": "display_data",
          "data": {
            "image/png": "[encoded data removed]",
            "text/plain": [
              "<Figure size 1800x720 with 2 Axes>"
            ]
          },
          "metadata": {
            "tags": [],
            "needs_background": "light"
          }
        }
      ]
    },
    {
      "cell_type": "code",
      "metadata": {
        "colab": {
          "base_uri": "https://localhost:8080/"
        },
        "id": "QPrRvoq8c48J",
        "outputId": "27408e6f-f8e8-440c-c3d5-fafb591b171f"
      },
      "source": [
        "df['Age'].mean()"
      ],
      "execution_count": 776,
      "outputs": [
        {
          "output_type": "execute_result",
          "data": {
            "text/plain": [
              "29.67580056179775"
            ]
          },
          "metadata": {
            "tags": []
          },
          "execution_count": 776
        }
      ]
    },
    {
      "cell_type": "code",
      "metadata": {
        "colab": {
          "base_uri": "https://localhost:8080/"
        },
        "id": "dpeZ8fy5djjQ",
        "outputId": "119d6753-f19d-46c8-812b-fd3f3ece011c"
      },
      "source": [
        "#number of rows with null as age\n",
        "df['Age'].isnull().sum()"
      ],
      "execution_count": 777,
      "outputs": [
        {
          "output_type": "execute_result",
          "data": {
            "text/plain": [
              "179"
            ]
          },
          "metadata": {
            "tags": []
          },
          "execution_count": 777
        }
      ]
    },
    {
      "cell_type": "code",
      "metadata": {
        "colab": {
          "base_uri": "https://localhost:8080/",
          "height": 429
        },
        "id": "fsXaUMFsc0Rt",
        "outputId": "8b09a56c-84ab-467a-a269-faf046630a7e"
      },
      "source": [
        "#Here Age with NaN are filled with mean of the age values\n",
        "#reason : As counted above number of values in Age as NaN are 179 which is less than half of the total rows i.e, 445 so no column deletion\n",
        "df[\"Age\"] = df[\"Age\"].replace(np.NaN, round(df[\"Age\"].mean(),1))\n",
        "msno.matrix(df)"
      ],
      "execution_count": 778,
      "outputs": [
        {
          "output_type": "execute_result",
          "data": {
            "text/plain": [
              "<matplotlib.axes._subplots.AxesSubplot at 0x7f5355a542d0>"
            ]
          },
          "metadata": {
            "tags": []
          },
          "execution_count": 778
        },
        {
          "output_type": "display_data",
          "data": {
            "image/png": "[encoded data removed]",
            "text/plain": [
              "<Figure size 1800x720 with 2 Axes>"
            ]
          },
          "metadata": {
            "tags": [],
            "needs_background": "light"
          }
        }
      ]
    },
    {
      "cell_type": "code",
      "metadata": {
        "id": "ZDoJDnhat8yh"
      },
      "source": [
        "#You can see above mostly Cabin column is empty \"white lines\" also some other columns which are unnamed are pure white \n",
        "#so I will drop those unnamed columns and Cabin "
      ],
      "execution_count": 779,
      "outputs": []
    },
    {
      "cell_type": "code",
      "metadata": {
        "id": "_nJpTShE1eTk"
      },
      "source": [
        "df = df.drop(axis=0,columns=['Cabin','Unnamed: 12','Unnamed: 13','Unnamed: 14','Unnamed: 15','Unnamed: 16','Unnamed: 17'])"
      ],
      "execution_count": 780,
      "outputs": []
    },
    {
      "cell_type": "code",
      "metadata": {
        "colab": {
          "base_uri": "https://localhost:8080/",
          "height": 424
        },
        "id": "NuPtuisN161M",
        "outputId": "760231e7-abc1-4277-b114-23677f5a444b"
      },
      "source": [
        "msno.matrix(df)"
      ],
      "execution_count": 781,
      "outputs": [
        {
          "output_type": "execute_result",
          "data": {
            "text/plain": [
              "<matplotlib.axes._subplots.AxesSubplot at 0x7f535593a310>"
            ]
          },
          "metadata": {
            "tags": []
          },
          "execution_count": 781
        },
        {
          "output_type": "display_data",
          "data": {
            "image/png": "[encoded data removed]",
            "text/plain": [
              "<Figure size 1800x720 with 2 Axes>"
            ]
          },
          "metadata": {
            "tags": [],
            "needs_background": "light"
          }
        }
      ]
    },
    {
      "cell_type": "code",
      "metadata": {
        "colab": {
          "base_uri": "https://localhost:8080/",
          "height": 424
        },
        "id": "lWm0WMcO6vSF",
        "outputId": "42fc2509-3ddf-43b7-eba0-0ef2fb5abdcd"
      },
      "source": [
        "#deleting rows with null as output i.e., survived\n",
        "for i in range(891):\n",
        "  if math.isnan(df['Survived'][i]):\n",
        "    df = df.drop(axis = 1,index = i)\n",
        "msno.matrix(df)"
      ],
      "execution_count": 782,
      "outputs": [
        {
          "output_type": "execute_result",
          "data": {
            "text/plain": [
              "<matplotlib.axes._subplots.AxesSubplot at 0x7f5355876d10>"
            ]
          },
          "metadata": {
            "tags": []
          },
          "execution_count": 782
        },
        {
          "output_type": "display_data",
          "data": {
            "image/png": "[encoded data removed]",
            "text/plain": [
              "<Figure size 1800x720 with 2 Axes>"
            ]
          },
          "metadata": {
            "tags": [],
            "needs_background": "light"
          }
        }
      ]
    },
    {
      "cell_type": "code",
      "metadata": {
        "id": "v5vlr_HO-KTc"
      },
      "source": [
        "df2 = df"
      ],
      "execution_count": 783,
      "outputs": []
    },
    {
      "cell_type": "code",
      "metadata": {
        "colab": {
          "base_uri": "https://localhost:8080/",
          "height": 424
        },
        "id": "DaC3Ea8u7uMn",
        "outputId": "f26e6ac4-a979-492e-89c9-feea2cef0058"
      },
      "source": [
        "#filling null values of Sex with male\n",
        "df2['Sex'].fillna(df2['Sex'].mode()[0], inplace=True)\n",
        "msno.matrix(df2)"
      ],
      "execution_count": 784,
      "outputs": [
        {
          "output_type": "execute_result",
          "data": {
            "text/plain": [
              "<matplotlib.axes._subplots.AxesSubplot at 0x7f53557bbf50>"
            ]
          },
          "metadata": {
            "tags": []
          },
          "execution_count": 784
        },
        {
          "output_type": "display_data",
          "data": {
            "image/png": "[encoded data removed]",
            "text/plain": [
              "<Figure size 1800x720 with 2 Axes>"
            ]
          },
          "metadata": {
            "tags": [],
            "needs_background": "light"
          }
        }
      ]
    },
    {
      "cell_type": "code",
      "metadata": {
        "colab": {
          "base_uri": "https://localhost:8080/",
          "height": 424
        },
        "id": "PLf9GiwH_g7o",
        "outputId": "ea907b9b-506c-438d-e069-d35894a31adf"
      },
      "source": [
        "#as the Pclass is discrete and can contain values 1-8 only , I used mode to fill the null values\n",
        "x=df2['Pclass'].mode()\n",
        "df2[\"Pclass\"] = df2[\"Pclass\"].replace(np.NaN, x[0])\n",
        "msno.matrix(df2)"
      ],
      "execution_count": 785,
      "outputs": [
        {
          "output_type": "execute_result",
          "data": {
            "text/plain": [
              "<matplotlib.axes._subplots.AxesSubplot at 0x7f535570f1d0>"
            ]
          },
          "metadata": {
            "tags": []
          },
          "execution_count": 785
        },
        {
          "output_type": "display_data",
          "data": {
            "image/png": "[encoded data removed]",
            "text/plain": [
              "<Figure size 1800x720 with 2 Axes>"
            ]
          },
          "metadata": {
            "tags": [],
            "needs_background": "light"
          }
        }
      ]
    },
    {
      "cell_type": "code",
      "metadata": {
        "colab": {
          "base_uri": "https://localhost:8080/",
          "height": 424
        },
        "id": "n18dBmp5B_0r",
        "outputId": "48c3bacb-52bd-4926-9574-334ff0357f47"
      },
      "source": [
        "#here the situation is same as Pclass\n",
        "x=df2['SibSp'].mode()\n",
        "df2[\"SibSp\"] = df2[\"SibSp\"].replace(np.NaN, x[0])\n",
        "msno.matrix(df2)"
      ],
      "execution_count": 786,
      "outputs": [
        {
          "output_type": "execute_result",
          "data": {
            "text/plain": [
              "<matplotlib.axes._subplots.AxesSubplot at 0x7f535564d3d0>"
            ]
          },
          "metadata": {
            "tags": []
          },
          "execution_count": 786
        },
        {
          "output_type": "display_data",
          "data": {
            "image/png": "[encoded data removed]",
            "text/plain": [
              "<Figure size 1800x720 with 2 Axes>"
            ]
          },
          "metadata": {
            "tags": [],
            "needs_background": "light"
          }
        }
      ]
    },
    {
      "cell_type": "code",
      "metadata": {
        "colab": {
          "base_uri": "https://localhost:8080/",
          "height": 424
        },
        "id": "-trYdra1CVCU",
        "outputId": "7cb3f2e3-bddf-4c8c-cb88-253143177842"
      },
      "source": [
        "#Here also, the situation is same as Pclass\n",
        "x=df2['Parch'].mode()\n",
        "df2[\"Parch\"] = df2[\"Parch\"].replace(np.NaN, x[0])\n",
        "msno.matrix(df2)"
      ],
      "execution_count": 787,
      "outputs": [
        {
          "output_type": "execute_result",
          "data": {
            "text/plain": [
              "<matplotlib.axes._subplots.AxesSubplot at 0x7f53555cce50>"
            ]
          },
          "metadata": {
            "tags": []
          },
          "execution_count": 787
        },
        {
          "output_type": "display_data",
          "data": {
            "image/png": "[encoded data removed]",
            "text/plain": [
              "<Figure size 1800x720 with 2 Axes>"
            ]
          },
          "metadata": {
            "tags": [],
            "needs_background": "light"
          }
        }
      ]
    },
    {
      "cell_type": "code",
      "metadata": {
        "colab": {
          "base_uri": "https://localhost:8080/"
        },
        "id": "VMSV-TnMD4Wr",
        "outputId": "f6c9309d-c0d3-4c2a-8a29-299ae90fa361"
      },
      "source": [
        "df2['Embarked'].isnull().sum()"
      ],
      "execution_count": 788,
      "outputs": [
        {
          "output_type": "execute_result",
          "data": {
            "text/plain": [
              "2"
            ]
          },
          "metadata": {
            "tags": []
          },
          "execution_count": 788
        }
      ]
    },
    {
      "cell_type": "code",
      "metadata": {
        "colab": {
          "base_uri": "https://localhost:8080/",
          "height": 424
        },
        "id": "8tt7bVkYCfq8",
        "outputId": "1f23206d-16ec-493f-889e-be6faf106d68"
      },
      "source": [
        "#Here too, I considered mode as filling value.\n",
        "#Here I can also fill any value since number of rows empty are way too less i.e., 2 (You can see in the above cell).\n",
        "x=df2['Embarked'].mode()\n",
        "df2[\"Embarked\"] = df2[\"Embarked\"].replace(np.NaN, x[0])\n",
        "msno.matrix(df2)"
      ],
      "execution_count": 789,
      "outputs": [
        {
          "output_type": "execute_result",
          "data": {
            "text/plain": [
              "<matplotlib.axes._subplots.AxesSubplot at 0x7f5355555790>"
            ]
          },
          "metadata": {
            "tags": []
          },
          "execution_count": 789
        },
        {
          "output_type": "display_data",
          "data": {
            "image/png": "[encoded data removed]",
            "text/plain": [
              "<Figure size 1800x720 with 2 Axes>"
            ]
          },
          "metadata": {
            "tags": [],
            "needs_background": "light"
          }
        }
      ]
    },
    {
      "cell_type": "code",
      "metadata": {
        "colab": {
          "base_uri": "https://localhost:8080/",
          "height": 306
        },
        "id": "Uq9EQ1rjGZDk",
        "outputId": "7e127bf3-22dc-4435-8df7-981d88cdd1c0"
      },
      "source": [
        "df2.head()"
      ],
      "execution_count": 790,
      "outputs": [
        {
          "output_type": "execute_result",
          "data": {
            "text/html": [
              "<div>\n",
              "<style scoped>\n",
              "    .dataframe tbody tr th:only-of-type {\n",
              "        vertical-align: middle;\n",
              "    }\n",
              "\n",
              "    .dataframe tbody tr th {\n",
              "        vertical-align: top;\n",
              "    }\n",
              "\n",
              "    .dataframe thead th {\n",
              "        text-align: right;\n",
              "    }\n",
              "</style>\n",
              "<table border=\"1\" class=\"dataframe\">\n",
              "  <thead>\n",
              "    <tr style=\"text-align: right;\">\n",
              "      <th></th>\n",
              "      <th>PassengerId</th>\n",
              "      <th>Survived</th>\n",
              "      <th>Pclass</th>\n",
              "      <th>Name</th>\n",
              "      <th>Sex</th>\n",
              "      <th>Age</th>\n",
              "      <th>SibSp</th>\n",
              "      <th>Parch</th>\n",
              "      <th>Ticket</th>\n",
              "      <th>Fare</th>\n",
              "      <th>Embarked</th>\n",
              "    </tr>\n",
              "  </thead>\n",
              "  <tbody>\n",
              "    <tr>\n",
              "      <th>0</th>\n",
              "      <td>1</td>\n",
              "      <td>0.0</td>\n",
              "      <td>3.0</td>\n",
              "      <td>Braund, Mr. Owen Harris</td>\n",
              "      <td>male</td>\n",
              "      <td>22.0</td>\n",
              "      <td>1.0</td>\n",
              "      <td>0.0</td>\n",
              "      <td>A/5 21171</td>\n",
              "      <td>7.2500</td>\n",
              "      <td>S</td>\n",
              "    </tr>\n",
              "    <tr>\n",
              "      <th>1</th>\n",
              "      <td>2</td>\n",
              "      <td>1.0</td>\n",
              "      <td>1.0</td>\n",
              "      <td>Cumings, Mrs. John Bradley (Florence Briggs Th...</td>\n",
              "      <td>female</td>\n",
              "      <td>38.0</td>\n",
              "      <td>1.0</td>\n",
              "      <td>0.0</td>\n",
              "      <td>PC 17599</td>\n",
              "      <td>71.2833</td>\n",
              "      <td>C</td>\n",
              "    </tr>\n",
              "    <tr>\n",
              "      <th>2</th>\n",
              "      <td>3</td>\n",
              "      <td>1.0</td>\n",
              "      <td>3.0</td>\n",
              "      <td>Heikkinen, Miss. Laina</td>\n",
              "      <td>female</td>\n",
              "      <td>26.0</td>\n",
              "      <td>0.0</td>\n",
              "      <td>0.0</td>\n",
              "      <td>STON/O2. 3101282</td>\n",
              "      <td>7.9250</td>\n",
              "      <td>S</td>\n",
              "    </tr>\n",
              "    <tr>\n",
              "      <th>3</th>\n",
              "      <td>4</td>\n",
              "      <td>1.0</td>\n",
              "      <td>1.0</td>\n",
              "      <td>Futrelle, Mrs. Jacques Heath (Lily May Peel)</td>\n",
              "      <td>female</td>\n",
              "      <td>35.0</td>\n",
              "      <td>1.0</td>\n",
              "      <td>0.0</td>\n",
              "      <td>113803</td>\n",
              "      <td>53.1000</td>\n",
              "      <td>S</td>\n",
              "    </tr>\n",
              "    <tr>\n",
              "      <th>4</th>\n",
              "      <td>5</td>\n",
              "      <td>0.0</td>\n",
              "      <td>3.0</td>\n",
              "      <td>Allen, Mr. William Henry</td>\n",
              "      <td>male</td>\n",
              "      <td>35.0</td>\n",
              "      <td>0.0</td>\n",
              "      <td>0.0</td>\n",
              "      <td>373450</td>\n",
              "      <td>8.0500</td>\n",
              "      <td>S</td>\n",
              "    </tr>\n",
              "  </tbody>\n",
              "</table>\n",
              "</div>"
            ],
            "text/plain": [
              "   PassengerId  Survived  Pclass  ...            Ticket     Fare  Embarked\n",
              "0            1       0.0     3.0  ...         A/5 21171   7.2500         S\n",
              "1            2       1.0     1.0  ...          PC 17599  71.2833         C\n",
              "2            3       1.0     3.0  ...  STON/O2. 3101282   7.9250         S\n",
              "3            4       1.0     1.0  ...            113803  53.1000         S\n",
              "4            5       0.0     3.0  ...            373450   8.0500         S\n",
              "\n",
              "[5 rows x 11 columns]"
            ]
          },
          "metadata": {
            "tags": []
          },
          "execution_count": 790
        }
      ]
    },
    {
      "cell_type": "markdown",
      "metadata": {
        "id": "mW54JwXJYBQk"
      },
      "source": [
        "Task 3: Categorical Encoding"
      ]
    },
    {
      "cell_type": "code",
      "metadata": {
        "id": "GHPD9AXfGzfJ"
      },
      "source": [
        "df3 = df2"
      ],
      "execution_count": 791,
      "outputs": []
    },
    {
      "cell_type": "code",
      "metadata": {
        "colab": {
          "base_uri": "https://localhost:8080/",
          "height": 530
        },
        "id": "MbQjqxFHG6Hu",
        "outputId": "16aad0ab-ca22-473d-e265-efe1de05274e"
      },
      "source": [
        "#Used One Hot encoding as Sex is nominal data\n",
        "encoder=ce.OneHotEncoder(cols='Sex',handle_unknown='return_nan',return_df=True,use_cat_names=True)\n",
        "df3 = encoder.fit_transform(df3)\n",
        "df3.head()"
      ],
      "execution_count": 792,
      "outputs": [
        {
          "output_type": "stream",
          "text": [
            "/usr/local/lib/python3.7/dist-packages/category_encoders/utils.py:21: FutureWarning: is_categorical is deprecated and will be removed in a future version.  Use is_categorical_dtype instead\n",
            "  elif pd.api.types.is_categorical(cols):\n"
          ],
          "name": "stderr"
        },
        {
          "output_type": "execute_result",
          "data": {
            "text/html": [
              "<div>\n",
              "<style scoped>\n",
              "    .dataframe tbody tr th:only-of-type {\n",
              "        vertical-align: middle;\n",
              "    }\n",
              "\n",
              "    .dataframe tbody tr th {\n",
              "        vertical-align: top;\n",
              "    }\n",
              "\n",
              "    .dataframe thead th {\n",
              "        text-align: right;\n",
              "    }\n",
              "</style>\n",
              "<table border=\"1\" class=\"dataframe\">\n",
              "  <thead>\n",
              "    <tr style=\"text-align: right;\">\n",
              "      <th></th>\n",
              "      <th>PassengerId</th>\n",
              "      <th>Survived</th>\n",
              "      <th>Pclass</th>\n",
              "      <th>Name</th>\n",
              "      <th>Sex_male</th>\n",
              "      <th>Sex_female</th>\n",
              "      <th>Age</th>\n",
              "      <th>SibSp</th>\n",
              "      <th>Parch</th>\n",
              "      <th>Ticket</th>\n",
              "      <th>Fare</th>\n",
              "      <th>Embarked</th>\n",
              "    </tr>\n",
              "  </thead>\n",
              "  <tbody>\n",
              "    <tr>\n",
              "      <th>0</th>\n",
              "      <td>1</td>\n",
              "      <td>0.0</td>\n",
              "      <td>3.0</td>\n",
              "      <td>Braund, Mr. Owen Harris</td>\n",
              "      <td>1.0</td>\n",
              "      <td>0.0</td>\n",
              "      <td>22.0</td>\n",
              "      <td>1.0</td>\n",
              "      <td>0.0</td>\n",
              "      <td>A/5 21171</td>\n",
              "      <td>7.2500</td>\n",
              "      <td>S</td>\n",
              "    </tr>\n",
              "    <tr>\n",
              "      <th>1</th>\n",
              "      <td>2</td>\n",
              "      <td>1.0</td>\n",
              "      <td>1.0</td>\n",
              "      <td>Cumings, Mrs. John Bradley (Florence Briggs Th...</td>\n",
              "      <td>0.0</td>\n",
              "      <td>1.0</td>\n",
              "      <td>38.0</td>\n",
              "      <td>1.0</td>\n",
              "      <td>0.0</td>\n",
              "      <td>PC 17599</td>\n",
              "      <td>71.2833</td>\n",
              "      <td>C</td>\n",
              "    </tr>\n",
              "    <tr>\n",
              "      <th>2</th>\n",
              "      <td>3</td>\n",
              "      <td>1.0</td>\n",
              "      <td>3.0</td>\n",
              "      <td>Heikkinen, Miss. Laina</td>\n",
              "      <td>0.0</td>\n",
              "      <td>1.0</td>\n",
              "      <td>26.0</td>\n",
              "      <td>0.0</td>\n",
              "      <td>0.0</td>\n",
              "      <td>STON/O2. 3101282</td>\n",
              "      <td>7.9250</td>\n",
              "      <td>S</td>\n",
              "    </tr>\n",
              "    <tr>\n",
              "      <th>3</th>\n",
              "      <td>4</td>\n",
              "      <td>1.0</td>\n",
              "      <td>1.0</td>\n",
              "      <td>Futrelle, Mrs. Jacques Heath (Lily May Peel)</td>\n",
              "      <td>0.0</td>\n",
              "      <td>1.0</td>\n",
              "      <td>35.0</td>\n",
              "      <td>1.0</td>\n",
              "      <td>0.0</td>\n",
              "      <td>113803</td>\n",
              "      <td>53.1000</td>\n",
              "      <td>S</td>\n",
              "    </tr>\n",
              "    <tr>\n",
              "      <th>4</th>\n",
              "      <td>5</td>\n",
              "      <td>0.0</td>\n",
              "      <td>3.0</td>\n",
              "      <td>Allen, Mr. William Henry</td>\n",
              "      <td>1.0</td>\n",
              "      <td>0.0</td>\n",
              "      <td>35.0</td>\n",
              "      <td>0.0</td>\n",
              "      <td>0.0</td>\n",
              "      <td>373450</td>\n",
              "      <td>8.0500</td>\n",
              "      <td>S</td>\n",
              "    </tr>\n",
              "  </tbody>\n",
              "</table>\n",
              "</div>"
            ],
            "text/plain": [
              "   PassengerId  Survived  Pclass  ...            Ticket     Fare  Embarked\n",
              "0            1       0.0     3.0  ...         A/5 21171   7.2500         S\n",
              "1            2       1.0     1.0  ...          PC 17599  71.2833         C\n",
              "2            3       1.0     3.0  ...  STON/O2. 3101282   7.9250         S\n",
              "3            4       1.0     1.0  ...            113803  53.1000         S\n",
              "4            5       0.0     3.0  ...            373450   8.0500         S\n",
              "\n",
              "[5 rows x 12 columns]"
            ]
          },
          "metadata": {
            "tags": []
          },
          "execution_count": 792
        }
      ]
    },
    {
      "cell_type": "code",
      "metadata": {
        "colab": {
          "base_uri": "https://localhost:8080/",
          "height": 530
        },
        "id": "hYuOjOkSH7TZ",
        "outputId": "fce612bb-1f44-4a58-b1c1-d453fa79562e"
      },
      "source": [
        "#encoded Embarked using Labeling Encoding as Embarked is Categorical Data as C,Q,S\n",
        "encoder= ce.OrdinalEncoder(cols=['Embarked'],return_df=True,\n",
        "                           mapping=[{'col':'Embarked','mapping':{'None':0,'C':1,'Q':2,'S':3}}]\n",
        "                           )\n",
        "df3 = encoder.fit_transform(df3)\n",
        "df3.head()"
      ],
      "execution_count": 793,
      "outputs": [
        {
          "output_type": "stream",
          "text": [
            "/usr/local/lib/python3.7/dist-packages/category_encoders/utils.py:21: FutureWarning: is_categorical is deprecated and will be removed in a future version.  Use is_categorical_dtype instead\n",
            "  elif pd.api.types.is_categorical(cols):\n"
          ],
          "name": "stderr"
        },
        {
          "output_type": "execute_result",
          "data": {
            "text/html": [
              "<div>\n",
              "<style scoped>\n",
              "    .dataframe tbody tr th:only-of-type {\n",
              "        vertical-align: middle;\n",
              "    }\n",
              "\n",
              "    .dataframe tbody tr th {\n",
              "        vertical-align: top;\n",
              "    }\n",
              "\n",
              "    .dataframe thead th {\n",
              "        text-align: right;\n",
              "    }\n",
              "</style>\n",
              "<table border=\"1\" class=\"dataframe\">\n",
              "  <thead>\n",
              "    <tr style=\"text-align: right;\">\n",
              "      <th></th>\n",
              "      <th>PassengerId</th>\n",
              "      <th>Survived</th>\n",
              "      <th>Pclass</th>\n",
              "      <th>Name</th>\n",
              "      <th>Sex_male</th>\n",
              "      <th>Sex_female</th>\n",
              "      <th>Age</th>\n",
              "      <th>SibSp</th>\n",
              "      <th>Parch</th>\n",
              "      <th>Ticket</th>\n",
              "      <th>Fare</th>\n",
              "      <th>Embarked</th>\n",
              "    </tr>\n",
              "  </thead>\n",
              "  <tbody>\n",
              "    <tr>\n",
              "      <th>0</th>\n",
              "      <td>1</td>\n",
              "      <td>0.0</td>\n",
              "      <td>3.0</td>\n",
              "      <td>Braund, Mr. Owen Harris</td>\n",
              "      <td>1.0</td>\n",
              "      <td>0.0</td>\n",
              "      <td>22.0</td>\n",
              "      <td>1.0</td>\n",
              "      <td>0.0</td>\n",
              "      <td>A/5 21171</td>\n",
              "      <td>7.2500</td>\n",
              "      <td>3</td>\n",
              "    </tr>\n",
              "    <tr>\n",
              "      <th>1</th>\n",
              "      <td>2</td>\n",
              "      <td>1.0</td>\n",
              "      <td>1.0</td>\n",
              "      <td>Cumings, Mrs. John Bradley (Florence Briggs Th...</td>\n",
              "      <td>0.0</td>\n",
              "      <td>1.0</td>\n",
              "      <td>38.0</td>\n",
              "      <td>1.0</td>\n",
              "      <td>0.0</td>\n",
              "      <td>PC 17599</td>\n",
              "      <td>71.2833</td>\n",
              "      <td>1</td>\n",
              "    </tr>\n",
              "    <tr>\n",
              "      <th>2</th>\n",
              "      <td>3</td>\n",
              "      <td>1.0</td>\n",
              "      <td>3.0</td>\n",
              "      <td>Heikkinen, Miss. Laina</td>\n",
              "      <td>0.0</td>\n",
              "      <td>1.0</td>\n",
              "      <td>26.0</td>\n",
              "      <td>0.0</td>\n",
              "      <td>0.0</td>\n",
              "      <td>STON/O2. 3101282</td>\n",
              "      <td>7.9250</td>\n",
              "      <td>3</td>\n",
              "    </tr>\n",
              "    <tr>\n",
              "      <th>3</th>\n",
              "      <td>4</td>\n",
              "      <td>1.0</td>\n",
              "      <td>1.0</td>\n",
              "      <td>Futrelle, Mrs. Jacques Heath (Lily May Peel)</td>\n",
              "      <td>0.0</td>\n",
              "      <td>1.0</td>\n",
              "      <td>35.0</td>\n",
              "      <td>1.0</td>\n",
              "      <td>0.0</td>\n",
              "      <td>113803</td>\n",
              "      <td>53.1000</td>\n",
              "      <td>3</td>\n",
              "    </tr>\n",
              "    <tr>\n",
              "      <th>4</th>\n",
              "      <td>5</td>\n",
              "      <td>0.0</td>\n",
              "      <td>3.0</td>\n",
              "      <td>Allen, Mr. William Henry</td>\n",
              "      <td>1.0</td>\n",
              "      <td>0.0</td>\n",
              "      <td>35.0</td>\n",
              "      <td>0.0</td>\n",
              "      <td>0.0</td>\n",
              "      <td>373450</td>\n",
              "      <td>8.0500</td>\n",
              "      <td>3</td>\n",
              "    </tr>\n",
              "  </tbody>\n",
              "</table>\n",
              "</div>"
            ],
            "text/plain": [
              "   PassengerId  Survived  Pclass  ...            Ticket     Fare  Embarked\n",
              "0            1       0.0     3.0  ...         A/5 21171   7.2500         3\n",
              "1            2       1.0     1.0  ...          PC 17599  71.2833         1\n",
              "2            3       1.0     3.0  ...  STON/O2. 3101282   7.9250         3\n",
              "3            4       1.0     1.0  ...            113803  53.1000         3\n",
              "4            5       0.0     3.0  ...            373450   8.0500         3\n",
              "\n",
              "[5 rows x 12 columns]"
            ]
          },
          "metadata": {
            "tags": []
          },
          "execution_count": 793
        }
      ]
    },
    {
      "cell_type": "markdown",
      "metadata": {
        "id": "8BKXpJH4YgX-"
      },
      "source": [
        "Task 4: Feature Scaling"
      ]
    },
    {
      "cell_type": "code",
      "metadata": {
        "colab": {
          "base_uri": "https://localhost:8080/"
        },
        "id": "aZx3XYFZYkoV",
        "outputId": "f92e2dfe-0ca7-4a84-b71c-ec5d352cd188"
      },
      "source": [
        "df4 = df3"
      ],
      "execution_count": 799,
      "outputs": [
        {
          "output_type": "stream",
          "text": [
            "Before\n"
          ],
          "name": "stdout"
        }
      ]
    },
    {
      "cell_type": "markdown",
      "metadata": {
        "id": "-QjWqx1vYqwF"
      },
      "source": [
        "Before"
      ]
    },
    {
      "cell_type": "code",
      "metadata": {
        "colab": {
          "base_uri": "https://localhost:8080/",
          "height": 419
        },
        "id": "-0gBb7iTYsIU",
        "outputId": "6d7d1964-1932-424d-831d-0090f2519ed3"
      },
      "source": [
        "df4[['Fare']]"
      ],
      "execution_count": 801,
      "outputs": [
        {
          "output_type": "execute_result",
          "data": {
            "text/html": [
              "<div>\n",
              "<style scoped>\n",
              "    .dataframe tbody tr th:only-of-type {\n",
              "        vertical-align: middle;\n",
              "    }\n",
              "\n",
              "    .dataframe tbody tr th {\n",
              "        vertical-align: top;\n",
              "    }\n",
              "\n",
              "    .dataframe thead th {\n",
              "        text-align: right;\n",
              "    }\n",
              "</style>\n",
              "<table border=\"1\" class=\"dataframe\">\n",
              "  <thead>\n",
              "    <tr style=\"text-align: right;\">\n",
              "      <th></th>\n",
              "      <th>Fare</th>\n",
              "    </tr>\n",
              "  </thead>\n",
              "  <tbody>\n",
              "    <tr>\n",
              "      <th>0</th>\n",
              "      <td>-0.502918</td>\n",
              "    </tr>\n",
              "    <tr>\n",
              "      <th>1</th>\n",
              "      <td>0.785186</td>\n",
              "    </tr>\n",
              "    <tr>\n",
              "      <th>2</th>\n",
              "      <td>-0.48934</td>\n",
              "    </tr>\n",
              "    <tr>\n",
              "      <th>3</th>\n",
              "      <td>0.419408</td>\n",
              "    </tr>\n",
              "    <tr>\n",
              "      <th>4</th>\n",
              "      <td>-0.486825</td>\n",
              "    </tr>\n",
              "    <tr>\n",
              "      <th>...</th>\n",
              "      <td>...</td>\n",
              "    </tr>\n",
              "    <tr>\n",
              "      <th>886</th>\n",
              "      <td>-0.38725</td>\n",
              "    </tr>\n",
              "    <tr>\n",
              "      <th>887</th>\n",
              "      <td>-0.0452754</td>\n",
              "    </tr>\n",
              "    <tr>\n",
              "      <th>888</th>\n",
              "      <td>-0.177036</td>\n",
              "    </tr>\n",
              "    <tr>\n",
              "      <th>889</th>\n",
              "      <td>-0.0452754</td>\n",
              "    </tr>\n",
              "    <tr>\n",
              "      <th>890</th>\n",
              "      <td>-0.49286</td>\n",
              "    </tr>\n",
              "  </tbody>\n",
              "</table>\n",
              "<p>889 rows × 1 columns</p>\n",
              "</div>"
            ],
            "text/plain": [
              "          Fare\n",
              "0    -0.502918\n",
              "1     0.785186\n",
              "2     -0.48934\n",
              "3     0.419408\n",
              "4    -0.486825\n",
              "..         ...\n",
              "886   -0.38725\n",
              "887 -0.0452754\n",
              "888  -0.177036\n",
              "889 -0.0452754\n",
              "890   -0.49286\n",
              "\n",
              "[889 rows x 1 columns]"
            ]
          },
          "metadata": {
            "tags": []
          },
          "execution_count": 801
        }
      ]
    },
    {
      "cell_type": "code",
      "metadata": {
        "colab": {
          "base_uri": "https://localhost:8080/"
        },
        "id": "tklN56J8Rl-H",
        "outputId": "4a28b05b-4a5e-4915-ad34-3f72d209aef8"
      },
      "source": [
        "X = df4.iloc[:, :].values\n",
        "norm = StandardScaler()\n",
        "X[:, 10:11] = norm.fit_transform(X[:, 10:11])\n",
        "df4['Fare'] = X[:,10:11]"
      ],
      "execution_count": 798,
      "outputs": [
        {
          "output_type": "stream",
          "text": [
            "Before\n",
            " 0      -0.502918\n",
            "1       0.785186\n",
            "2       -0.48934\n",
            "3       0.419408\n",
            "4      -0.486825\n",
            "         ...    \n",
            "886     -0.38725\n",
            "887   -0.0452754\n",
            "888    -0.177036\n",
            "889   -0.0452754\n",
            "890     -0.49286\n",
            "Name: Fare, Length: 889, dtype: object\n"
          ],
          "name": "stdout"
        }
      ]
    },
    {
      "cell_type": "markdown",
      "metadata": {
        "id": "jiAnLSjuYxPC"
      },
      "source": [
        "After:"
      ]
    },
    {
      "cell_type": "code",
      "metadata": {
        "colab": {
          "base_uri": "https://localhost:8080/",
          "height": 419
        },
        "id": "x-_Zdxd5YyYK",
        "outputId": "0e6c5892-3184-43fb-89d6-07720bb16568"
      },
      "source": [
        "df4[['Fare']]"
      ],
      "execution_count": 802,
      "outputs": [
        {
          "output_type": "execute_result",
          "data": {
            "text/html": [
              "<div>\n",
              "<style scoped>\n",
              "    .dataframe tbody tr th:only-of-type {\n",
              "        vertical-align: middle;\n",
              "    }\n",
              "\n",
              "    .dataframe tbody tr th {\n",
              "        vertical-align: top;\n",
              "    }\n",
              "\n",
              "    .dataframe thead th {\n",
              "        text-align: right;\n",
              "    }\n",
              "</style>\n",
              "<table border=\"1\" class=\"dataframe\">\n",
              "  <thead>\n",
              "    <tr style=\"text-align: right;\">\n",
              "      <th></th>\n",
              "      <th>Fare</th>\n",
              "    </tr>\n",
              "  </thead>\n",
              "  <tbody>\n",
              "    <tr>\n",
              "      <th>0</th>\n",
              "      <td>-0.502918</td>\n",
              "    </tr>\n",
              "    <tr>\n",
              "      <th>1</th>\n",
              "      <td>0.785186</td>\n",
              "    </tr>\n",
              "    <tr>\n",
              "      <th>2</th>\n",
              "      <td>-0.48934</td>\n",
              "    </tr>\n",
              "    <tr>\n",
              "      <th>3</th>\n",
              "      <td>0.419408</td>\n",
              "    </tr>\n",
              "    <tr>\n",
              "      <th>4</th>\n",
              "      <td>-0.486825</td>\n",
              "    </tr>\n",
              "    <tr>\n",
              "      <th>...</th>\n",
              "      <td>...</td>\n",
              "    </tr>\n",
              "    <tr>\n",
              "      <th>886</th>\n",
              "      <td>-0.38725</td>\n",
              "    </tr>\n",
              "    <tr>\n",
              "      <th>887</th>\n",
              "      <td>-0.0452754</td>\n",
              "    </tr>\n",
              "    <tr>\n",
              "      <th>888</th>\n",
              "      <td>-0.177036</td>\n",
              "    </tr>\n",
              "    <tr>\n",
              "      <th>889</th>\n",
              "      <td>-0.0452754</td>\n",
              "    </tr>\n",
              "    <tr>\n",
              "      <th>890</th>\n",
              "      <td>-0.49286</td>\n",
              "    </tr>\n",
              "  </tbody>\n",
              "</table>\n",
              "<p>889 rows × 1 columns</p>\n",
              "</div>"
            ],
            "text/plain": [
              "          Fare\n",
              "0    -0.502918\n",
              "1     0.785186\n",
              "2     -0.48934\n",
              "3     0.419408\n",
              "4    -0.486825\n",
              "..         ...\n",
              "886   -0.38725\n",
              "887 -0.0452754\n",
              "888  -0.177036\n",
              "889 -0.0452754\n",
              "890   -0.49286\n",
              "\n",
              "[889 rows x 1 columns]"
            ]
          },
          "metadata": {
            "tags": []
          },
          "execution_count": 802
        }
      ]
    }
  ]
}